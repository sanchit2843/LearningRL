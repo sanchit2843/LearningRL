{
  "nbformat": 4,
  "nbformat_minor": 0,
  "metadata": {
    "colab": {
      "name": "Untitled11.ipynb",
      "version": "0.3.2",
      "provenance": []
    },
    "kernelspec": {
      "name": "python3",
      "display_name": "Python 3"
    }
  },
  "cells": [
    {
      "metadata": {
        "id": "T4bb3VBiKlQP",
        "colab_type": "code",
        "colab": {}
      },
      "cell_type": "code",
      "source": [
        "import gym\n",
        "import numpy as np\n",
        "#make environment\n",
        "env = gym.make('FrozenLake-v0')\n",
        "# as the environment is continues there cannot be finite number of states \n",
        "states = env.observation_space.n #used if discrete environment\n",
        "\n",
        "#check number of actions that can be \n",
        "actions = env.action_space.n\n",
        "\n",
        "#initialize value table randomly\n",
        "value_table = np.zeros((states,1))\n",
        "\n",
        "def value_iterations(env , n_iterations , gamma = 1.0 , threshold = 1e-30):\n",
        "    for i in range(n_iterations):\n",
        "        \n",
        "        new_valuetable = np.copy(value_table)\n",
        "        for state in range(states):\n",
        "            q_value = []\n",
        "            for action in range(actions):\n",
        "                next_state_reward = []\n",
        "                for next_state_parameters in env.env.P[state][action]:\n",
        "                    transition_prob, next_state, reward_prob, _ = next_state_parameters\n",
        "                    reward = transition_prob*(reward_prob+gamma*new_valuetable[next_state])\n",
        "                    next_state_reward.append(reward)\n",
        "                    \n",
        "                    \n",
        "                q_value.append((np.sum(next_state_reward)))\n",
        "            value_table[state] = max(q_value)\n",
        "            \n",
        "        if (np.sum(np.fabs(new_valuetable - value_table))<=threshold):\n",
        "            break\n",
        "    return value_table\n",
        "  \n",
        "\n",
        "def extract_policy(value_table, gamma = 1.0):\n",
        "  policy = np.zeros(env.observation_space.n)\n",
        "  for state in range(env.observation_space.n):\n",
        "    Q_table = np.zeros(env.action_space.n)\n",
        "    for action in range(env.action_space.n):\n",
        "      for next_sr in env.env.P[state][action]:\n",
        "        transition_prob, next_state, reward_prob, _ = next_sr\n",
        "        Q_table[action] += (transition_prob * (reward_prob + gamma *value_table[next_state]))\n",
        "    policy[state] = np.argmax(Q_table)\n",
        "  return policy\n"
      ],
      "execution_count": 0,
      "outputs": []
    },
    {
      "metadata": {
        "id": "cIy3DMpRKqNP",
        "colab_type": "code",
        "outputId": "aa42824e-13f9-4f76-c170-f3cad515861b",
        "colab": {
          "base_uri": "https://localhost:8080/",
          "height": 35
        }
      },
      "cell_type": "code",
      "source": [
        "value_table = value_iterations(env,10000)\n",
        "policy = extract_policy(value_table)\n",
        "print(policy)"
      ],
      "execution_count": 24,
      "outputs": [
        {
          "output_type": "stream",
          "text": [
            "[0. 3. 3. 3. 0. 0. 0. 0. 3. 1. 0. 0. 0. 2. 1. 0.]\n"
          ],
          "name": "stdout"
        }
      ]
    }
  ]
}